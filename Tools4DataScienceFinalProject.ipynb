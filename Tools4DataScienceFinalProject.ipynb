{
 "cells": [
  {
   "cell_type": "markdown",
   "id": "abf073a2-9abe-41b5-8276-43f27155d96c",
   "metadata": {},
   "source": [
    "# My Jupyter Notebook on IBM Watson Studio"
   ]
  },
  {
   "cell_type": "markdown",
   "id": "a115e779-5a4f-4b8b-9701-1cf38221a659",
   "metadata": {},
   "source": [
    "__Peter W Kwoba__ <br>\n",
    "Senior Data Scientist"
   ]
  },
  {
   "cell_type": "markdown",
   "id": "9529bbb2-ec12-40a3-a10b-ea923b2803a1",
   "metadata": {},
   "source": [
    "_I am interested in data science because it is an ever evolving field that will always be crucial in helping to understand and tell stories from data. <br>\n",
    "The tecnological advancements in platforms and algorithms that help power this field also attract me to data science._"
   ]
  },
  {
   "cell_type": "markdown",
   "id": "fd855c4a-b37c-4fae-9797-af7fdb6f7f8f",
   "metadata": {},
   "source": [
    "### The code below represents a function that that takes 3 inputs (s, old, new) and replaces all occurrences of old characters<br> with new characters in a string s"
   ]
  },
  {
   "cell_type": "code",
   "execution_count": 3,
   "id": "404f0b4d-d467-452b-b814-3302ba9528ed",
   "metadata": {},
   "outputs": [
    {
     "name": "stdout",
     "output_type": "stream",
     "text": [
      "MIssIssIppI\n",
      "I love spam! Spam is my favorite food. Spam, spam, yum!\n",
      "I lave spam! Spam is my favarite faad. Spam, spam, yum!\n"
     ]
    }
   ],
   "source": [
    "def replace(s, old, new):\n",
    "    #This function replaces all occurrences of old with new in a string s\n",
    "    print(new.join(s.split(old)))\n",
    "    \n",
    "replace(\"Mississippi\",\"i\",\"I\")\n",
    "s = \"I love spom! Spom is my favorite food. Spom, spom, yum!\"\n",
    "replace(s, \"om\", \"am\")\n",
    "replace(s, \"o\", \"a\")"
   ]
  },
  {
   "cell_type": "markdown",
   "id": "6e9a0cfd-50c6-4b6a-b6db-16d4cd8ba5bb",
   "metadata": {},
   "source": [
    "***\n",
    "\n",
    "Here is a horizontal rule\n",
    "\n",
    "***\n",
    "\n",
    "1. Jupyter Notebook and JupyterLab\n",
    "2. RStudio IDE\n",
    "3. GitHub\n",
    "\n",
    "* IBM Watson Studio\n",
    "* IBM Watson Knowledge Catalog\n",
    "* Data Refinery\n",
    "* SPSS Modeler Flows\n",
    "* SPSS Statistics\n",
    "* AutoAI\n",
    "* IBM Watson Openscale\n",
    "\n",
    "\n",
    "<a href=\"https://www.linkedin.com/company/rentiakenya/?viewAsMember=true\" target=\"_blank\">Rentia Kenya</a>\n"
   ]
  }
 ],
 "metadata": {
  "kernelspec": {
   "display_name": "Python",
   "language": "python",
   "name": "conda-env-python-py"
  },
  "language_info": {
   "codemirror_mode": {
    "name": "ipython",
    "version": 3
   },
   "file_extension": ".py",
   "mimetype": "text/x-python",
   "name": "python",
   "nbconvert_exporter": "python",
   "pygments_lexer": "ipython3",
   "version": "3.7.12"
  }
 },
 "nbformat": 4,
 "nbformat_minor": 5
}
